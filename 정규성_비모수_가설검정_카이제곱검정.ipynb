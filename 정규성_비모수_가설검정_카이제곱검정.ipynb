# 각 그룹별 분포
grouped = df.groupby('group_col')['target_metric']
samples = [group for name, group in grouped]

# 각 그룹 정규성 확인
for name, group in grouped:
    stat, p = shapiro(group)
    print(f"{name} 그룹 - Shapiro-Wilk p={p:.4f} → {'정규성 있음' if p >= 0.05 else '정규성 없음'}")

####################################

# 비모수 방법 H-test 진행
# group_col별 target_metric 리스트로 분리
groups = [group['target_metric'].values for _, group in df.groupby('group_col')]

# Kruskal-Wallis H-test 수행
stat, p = kruskal(*groups)
print(f"[Kruskal-Wallis H-test] H = {stat:.3f}, p-value = {p:.5f}")
if p < 0.05:
    print("→ ✅ group_col별 평균 target_metric 차이가 통계적으로 유의합니다.")
else:
    print("→ ❌ group_col별 평균 target_metric 차이는 유의하지 않습니다.")

####################################

# 카이제곱 검정
# 교차표 생성
contingency = pd.crosstab(df['group_col'], df['binary_outcome'])  # binary_outcome: 0 = 유지, 1 = 이탈

# 카이제곱 검정
chi2, p, dof, expected = chi2_contingency(contingency)
print(f"[Chi-squared Test] χ² = {chi2:.3f}, p-value = {p:.5f}")
if p < 0.05:
    print("→ ✅ group_col별 binary_outcome 차이가 통계적으로 유의합니다.")
else:
    print("→ ❌ group_col별 binary_outcome 차이는 통계적으로 유의하지 않습니다.")