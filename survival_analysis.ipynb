# 이탈자 중 가장 첫번째 이탈만 남기기
churn_info = df[df['churn_flag'] == 1].groupby('유저ID').head(1).copy()

# 그 이탈 직전 방문을 찾기
churn_prev_indices = churn_info.index - 1
churn_prev_visits = df.loc[churn_prev_indices, ['유저ID', '방문일']].rename(columns={'방문일': '이탈직전방문'})

# 첫 방문일 구하기
first_visits = df.groupby('유저ID')['방문일'].min().reset_index()
first_visits = first_visits.rename(columns={'방문일': '첫방문'})

# 합치기
survival_df = pd.merge(first_visits, churn_prev_visits, on='유저ID', how='left')

# 마지막 방문일 구하기
last_visits = df.groupby('유저ID')['방문일'].max().reset_index()
last_visits = last_visits.rename(columns={'방문일': '마지막방문'})

survival_df = pd.merge(survival_df, last_visits, on='유저ID', how='left')

# 생존기간 계산
survival_df['생존기간'] = survival_df.apply(
    lambda x: (pd.to_datetime(x['이탈직전방문']) - pd.to_datetime(x['첫방문'])).days
              if pd.notnull(x['이탈직전방문']) 
              else (pd.to_datetime(x['마지막방문']) - pd.to_datetime(x['첫방문'])).days,
    axis=1
)
survival_df['이탈여부'] = survival_df['이탈직전방문'].apply(
    lambda x: 1 if pd.notnull(x) else 0
)

# 최종 컬럼 정리
survival_df = survival_df[['유저ID', '첫방문', '이탈직전방문', '마지막방문', '생존기간', '이탈여부']]

# 결과 출력
survival_df.head()