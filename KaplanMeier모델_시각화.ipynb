# 모든 컬럼, 변수, df명, 그래프 타이틀 등 마스킹 처리 완료

# 생존 분석 라이브러리
from lifelines import KaplanMeierFitter
import matplotlib.pyplot as plt

# Kaplan-Meier 모델 선언
kmf = KaplanMeierFitter()

# 학습 (duration: 생존 기간, event: 이탈 여부)
kmf.fit(durations=df['기간_컬럼'], event_observed=df['이벤트_컬럼'])

# 시각화
plt.figure(figsize=(10, 6))
kmf.plot(ci_show=True)
plt.title('생존 곡선')
plt.xlabel('시간')
plt.ylabel('생존 확률')
plt.grid(axis='x')
plt.show()